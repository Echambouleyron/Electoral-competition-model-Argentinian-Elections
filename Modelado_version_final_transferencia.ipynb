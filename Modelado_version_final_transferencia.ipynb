{
 "cells": [
  {
   "cell_type": "code",
   "execution_count": 1,
   "metadata": {},
   "outputs": [],
   "source": [
    "import pandas as pd\n",
    "import numpy as np\n",
    "import statsmodels.api as sm     "
   ]
  },
  {
   "cell_type": "markdown",
   "metadata": {},
   "source": [
    "***Cargamos el dataframe obtenido en la etapa de pre-procesamieno***"
   ]
  },
  {
   "cell_type": "code",
   "execution_count": 2,
   "metadata": {},
   "outputs": [],
   "source": [
    "def load_data(file):\n",
    "    \n",
    "    df = pd.read_csv(file)\n",
    "    df.drop(columns = ['Unnamed: 0'], inplace = True)\n",
    "    \n",
    "    return df\n",
    "df = load_data('dataframe_limpio2323.csv')"
   ]
  },
  {
   "cell_type": "markdown",
   "metadata": {},
   "source": [
    "***Definimos las variables X e Y***"
   ]
  },
  {
   "cell_type": "code",
   "execution_count": 3,
   "metadata": {},
   "outputs": [],
   "source": [
    "X = df[['por_consenso_federal_paso', 'por_fit_paso',\n",
    "       'por_MAS_paso', 'por_Frente_todos_paso', 'por_frente_patriota_paso',\n",
    "       'por_juntos_cambio_paso', 'por_accion_vecinal_paso',\n",
    "       'por_autonomista_paso', 'por_unite_paso', 'por_NOS_paso',\n",
    "       'por_votos_blanco_paso']]\n",
    "\n",
    "y = df[['por_consenso_federal_gen', 'por_fit_gen', 'por_juntos_cambio_gen',\n",
    "       'por_frente_todos_gen', 'por_NOS_gen', 'por_Unite_gen',\n",
    "       'por_blancos_gen']]"
   ]
  },
  {
   "cell_type": "markdown",
   "metadata": {},
   "source": [
    "***Creamos una función para obtener las regresiones***"
   ]
  },
  {
   "cell_type": "code",
   "execution_count": 4,
   "metadata": {},
   "outputs": [],
   "source": [
    "r2 = []\n",
    "\n",
    "def get_ols_regression(y,column_name,X):\n",
    "    model = sm.OLS(y[column_name], X).fit()\n",
    "    r_squared = model.rsquared\n",
    "    r2.append(r_squared)\n",
    "    model_summary = model.summary()\n",
    "    results_as_html = model_summary.tables[1].as_html()\n",
    "    table = pd.read_html(results_as_html, header=0, index_col=0)[0]\n",
    "    table.reset_index(inplace = True)\n",
    "    table.rename(columns = {'coef':column_name, 'index': 'Features'}, inplace = True)\n",
    "    return table"
   ]
  },
  {
   "cell_type": "code",
   "execution_count": 5,
   "metadata": {},
   "outputs": [],
   "source": [
    "results_JxC = get_ols_regression(y, 'por_juntos_cambio_gen', X)\n",
    "results_frente_todos = get_ols_regression(y, 'por_frente_todos_gen', X)\n",
    "results_consenso_federal = get_ols_regression(y, 'por_consenso_federal_gen', X)\n",
    "results_unite = get_ols_regression(y, 'por_Unite_gen', X)\n",
    "results_fit = get_ols_regression(y, 'por_fit_gen', X)\n",
    "results_blancos = get_ols_regression(y, 'por_blancos_gen', X)\n",
    "results_nos = get_ols_regression(y, 'por_NOS_gen', X)"
   ]
  },
  {
   "cell_type": "code",
   "execution_count": 6,
   "metadata": {},
   "outputs": [
    {
     "data": {
      "text/plain": [
       "[0.9012713289770744,\n",
       " 0.8971813479842055,\n",
       " 0.4685221401646211,\n",
       " 0.2101543774035468,\n",
       " 0.20418830224213202,\n",
       " 0.14583136783601514,\n",
       " 0.4193946344645316]"
      ]
     },
     "execution_count": 6,
     "metadata": {},
     "output_type": "execute_result"
    }
   ],
   "source": [
    "r2"
   ]
  },
  {
   "cell_type": "markdown",
   "metadata": {},
   "source": [
    "***Creamos la matriz de transferencia***"
   ]
  },
  {
   "cell_type": "code",
   "execution_count": 7,
   "metadata": {},
   "outputs": [
    {
     "data": {
      "text/plain": [
       "array(['Juntos por el Cambio', 'Frente de Todos', 'Consenso Federal',\n",
       "       'Unite', 'FIT', 'Frente Nos', 'Votos en blanco'], dtype=object)"
      ]
     },
     "execution_count": 7,
     "metadata": {},
     "output_type": "execute_result"
    }
   ],
   "source": [
    "def features_repetidas():\n",
    "    features = ['Consenso Federal', 'FIT', 'MAS',\n",
    "       'Frente de Todos', 'Frente Patriota', 'Juntos por el Cambio',\n",
    "       'Acción Vecinal', 'Partido Autonomista', 'Unite',\n",
    "       'Frente Nos', 'Votos en Blanco']\n",
    "    \n",
    "    total_votos_paso = [df['Votos_consenso_federal_paso'].sum(), df['Votos_fit_paso'].sum(),\n",
    "                        df['Votos_MAS_paso'].sum(), df['Votos_Frente_todos_paso'].sum(),\n",
    "                        df['Votos_frente_patriota_paso'].sum(), df['Votos_juntos_cambio_paso'].sum(), df['Votos_accion_vecinal_paso'].sum(),\n",
    "                       df['Votos_autonomista_paso'].sum(), df['Votos_unite_paso'].sum(), df['Votos_NOS_paso'].sum(), df['votos_blanco_paso'].sum()]\n",
    "    \n",
    "    features = pd.DataFrame(features, columns = ['Features'])\n",
    "    total_votos_paso = pd.DataFrame(total_votos_paso , columns = ['Total_votos_paso'])\n",
    "    \n",
    "    features_votos_paso = features.join(total_votos_paso)\n",
    "    features_votos_paso = pd.concat([features_votos_paso]*7 , ignore_index = True)\n",
    "    \n",
    "    features_votos_paso.reset_index(drop = True , inplace = True)\n",
    "    \n",
    "    features_votos_paso['Coefficients'] = pd.Series(dtype=int)\n",
    "    \n",
    "    features_votos_paso.reset_index(drop = True , inplace=True)\n",
    "    return features_votos_paso\n",
    "\n",
    "def y_repetidas():\n",
    "    \n",
    "    ys_rep = ['Juntos por el Cambio',\n",
    "       'Frente de Todos', 'Consenso Federal', 'Unite',\n",
    "       'FIT', 'Frente Nos','Votos en blanco']\n",
    "    \n",
    "    total_votos_gen = [df['Votos_juntos_cambio_gen'].sum(), df['Votos_Frente_todos_gen'].sum(),\n",
    "                        df['Votos_consenso_federal_gen'].sum(), df['Votos_unite_gen'].sum(),\n",
    "                        df['Votos_fit_gen'].sum(), df['Votos_NOS_gen'].sum(), df['votos_blanco_gen'].sum()]\n",
    "    \n",
    "\n",
    "    ys_rep = pd.Series(ys_rep)\n",
    "    ys_rep = ys_rep.repeat(11)\n",
    "    \n",
    "    total_votos_gen = pd.Series(total_votos_gen)\n",
    "    total_votos_gen = total_votos_gen.repeat(11)\n",
    "    \n",
    "    ys_rep = pd.DataFrame(ys_rep , columns = ['ys_rep'])\n",
    "    ys_rep.reset_index(drop = True, inplace = True)\n",
    "    \n",
    "    total_votos_gen = pd.DataFrame(total_votos_gen , columns = ['Total_votos_gen'])\n",
    "    total_votos_gen.reset_index(drop = True, inplace = True)\n",
    "    \n",
    "    \n",
    "    ys_total = ys_rep.join(total_votos_gen)\n",
    "    \n",
    "    ys_total = ys_total.reset_index(drop = True)\n",
    "    \n",
    "    return ys_total\n",
    "\n",
    "features_votos_paso = features_repetidas()\n",
    "ys_total = y_repetidas()\n",
    "\n",
    "results_table = features_votos_paso.join(ys_total)\n",
    "results_table.ys_rep.unique()\n"
   ]
  },
  {
   "cell_type": "code",
   "execution_count": 8,
   "metadata": {},
   "outputs": [],
   "source": [
    "def insert_coefficients(slice1, slice2, df, column_name):\n",
    "    \n",
    "    results_table.loc[slice1 : slice2, 'Coefficients'] = df[column_name].values.reshape(-1,1)\n",
    "\n",
    "    return results_table\n",
    "\n",
    "results_table = insert_coefficients(0,10, results_JxC, 'por_juntos_cambio_gen')\n",
    "results_table = insert_coefficients(11,21, results_frente_todos, 'por_frente_todos_gen')\n",
    "results_table = insert_coefficients(22,32, results_consenso_federal, 'por_consenso_federal_gen')\n",
    "results_table = insert_coefficients(33,43, results_unite, 'por_Unite_gen')\n",
    "results_table = insert_coefficients(44,54, results_fit, 'por_fit_gen')\n",
    "results_table = insert_coefficients(55,65, results_nos, 'por_NOS_gen')\n",
    "results_table = insert_coefficients(66,76, results_blancos, 'por_blancos_gen')"
   ]
  },
  {
   "cell_type": "code",
   "execution_count": 21,
   "metadata": {},
   "outputs": [
    {
     "data": {
      "text/html": [
       "<div>\n",
       "<style scoped>\n",
       "    .dataframe tbody tr th:only-of-type {\n",
       "        vertical-align: middle;\n",
       "    }\n",
       "\n",
       "    .dataframe tbody tr th {\n",
       "        vertical-align: top;\n",
       "    }\n",
       "\n",
       "    .dataframe thead th {\n",
       "        text-align: right;\n",
       "    }\n",
       "</style>\n",
       "<table border=\"1\" class=\"dataframe\">\n",
       "  <thead>\n",
       "    <tr style=\"text-align: right;\">\n",
       "      <th></th>\n",
       "      <th>Features</th>\n",
       "      <th>Total_votos_paso</th>\n",
       "      <th>Coefficients</th>\n",
       "      <th>ys_rep</th>\n",
       "      <th>Total_votos_gen</th>\n",
       "    </tr>\n",
       "  </thead>\n",
       "  <tbody>\n",
       "    <tr>\n",
       "      <td>0</td>\n",
       "      <td>Consenso Federal</td>\n",
       "      <td>1251064.0</td>\n",
       "      <td>0.3762</td>\n",
       "      <td>Juntos por el Cambio</td>\n",
       "      <td>6748101.0</td>\n",
       "    </tr>\n",
       "    <tr>\n",
       "      <td>1</td>\n",
       "      <td>FIT</td>\n",
       "      <td>365498.0</td>\n",
       "      <td>0.2507</td>\n",
       "      <td>Juntos por el Cambio</td>\n",
       "      <td>6748101.0</td>\n",
       "    </tr>\n",
       "    <tr>\n",
       "      <td>2</td>\n",
       "      <td>MAS</td>\n",
       "      <td>97762.0</td>\n",
       "      <td>0.0054</td>\n",
       "      <td>Juntos por el Cambio</td>\n",
       "      <td>6748101.0</td>\n",
       "    </tr>\n",
       "    <tr>\n",
       "      <td>3</td>\n",
       "      <td>Frente de Todos</td>\n",
       "      <td>6653143.0</td>\n",
       "      <td>0.0145</td>\n",
       "      <td>Juntos por el Cambio</td>\n",
       "      <td>6748101.0</td>\n",
       "    </tr>\n",
       "    <tr>\n",
       "      <td>4</td>\n",
       "      <td>Frente Patriota</td>\n",
       "      <td>34598.0</td>\n",
       "      <td>0.2165</td>\n",
       "      <td>Juntos por el Cambio</td>\n",
       "      <td>6748101.0</td>\n",
       "    </tr>\n",
       "    <tr>\n",
       "      <td>...</td>\n",
       "      <td>...</td>\n",
       "      <td>...</td>\n",
       "      <td>...</td>\n",
       "      <td>...</td>\n",
       "      <td>...</td>\n",
       "    </tr>\n",
       "    <tr>\n",
       "      <td>72</td>\n",
       "      <td>Acción Vecinal</td>\n",
       "      <td>29203.0</td>\n",
       "      <td>0.1112</td>\n",
       "      <td>Votos en blanco</td>\n",
       "      <td>197306.0</td>\n",
       "    </tr>\n",
       "    <tr>\n",
       "      <td>73</td>\n",
       "      <td>Partido Autonomista</td>\n",
       "      <td>22435.0</td>\n",
       "      <td>-0.0384</td>\n",
       "      <td>Votos en blanco</td>\n",
       "      <td>197306.0</td>\n",
       "    </tr>\n",
       "    <tr>\n",
       "      <td>74</td>\n",
       "      <td>Unite</td>\n",
       "      <td>345802.0</td>\n",
       "      <td>-0.0408</td>\n",
       "      <td>Votos en blanco</td>\n",
       "      <td>197306.0</td>\n",
       "    </tr>\n",
       "    <tr>\n",
       "      <td>75</td>\n",
       "      <td>Frente Nos</td>\n",
       "      <td>450918.0</td>\n",
       "      <td>-0.0053</td>\n",
       "      <td>Votos en blanco</td>\n",
       "      <td>197306.0</td>\n",
       "    </tr>\n",
       "    <tr>\n",
       "      <td>76</td>\n",
       "      <td>Votos en Blanco</td>\n",
       "      <td>410595.0</td>\n",
       "      <td>0.1734</td>\n",
       "      <td>Votos en blanco</td>\n",
       "      <td>197306.0</td>\n",
       "    </tr>\n",
       "  </tbody>\n",
       "</table>\n",
       "<p>77 rows × 5 columns</p>\n",
       "</div>"
      ],
      "text/plain": [
       "               Features  Total_votos_paso  Coefficients                ys_rep  \\\n",
       "0      Consenso Federal         1251064.0        0.3762  Juntos por el Cambio   \n",
       "1                   FIT          365498.0        0.2507  Juntos por el Cambio   \n",
       "2                   MAS           97762.0        0.0054  Juntos por el Cambio   \n",
       "3       Frente de Todos         6653143.0        0.0145  Juntos por el Cambio   \n",
       "4       Frente Patriota           34598.0        0.2165  Juntos por el Cambio   \n",
       "..                  ...               ...           ...                   ...   \n",
       "72       Acción Vecinal           29203.0        0.1112       Votos en blanco   \n",
       "73  Partido Autonomista           22435.0       -0.0384       Votos en blanco   \n",
       "74                Unite          345802.0       -0.0408       Votos en blanco   \n",
       "75           Frente Nos          450918.0       -0.0053       Votos en blanco   \n",
       "76      Votos en Blanco          410595.0        0.1734       Votos en blanco   \n",
       "\n",
       "    Total_votos_gen  \n",
       "0         6748101.0  \n",
       "1         6748101.0  \n",
       "2         6748101.0  \n",
       "3         6748101.0  \n",
       "4         6748101.0  \n",
       "..              ...  \n",
       "72         197306.0  \n",
       "73         197306.0  \n",
       "74         197306.0  \n",
       "75         197306.0  \n",
       "76         197306.0  \n",
       "\n",
       "[77 rows x 5 columns]"
      ]
     },
     "execution_count": 21,
     "metadata": {},
     "output_type": "execute_result"
    }
   ],
   "source": [
    "results_table"
   ]
  },
  {
   "cell_type": "code",
   "execution_count": 22,
   "metadata": {},
   "outputs": [],
   "source": [
    "results_table.to_csv(r'C:\\Users\\Administrador\\Desktop\\Carrera de Data Science\\DS-Cor\\Transferencia votos\\dataframe_tabla_resultados_transferncia.csv')"
   ]
  }
 ],
 "metadata": {
  "kernelspec": {
   "display_name": "Python 3",
   "language": "python",
   "name": "python3"
  },
  "language_info": {
   "codemirror_mode": {
    "name": "ipython",
    "version": 3
   },
   "file_extension": ".py",
   "mimetype": "text/x-python",
   "name": "python",
   "nbconvert_exporter": "python",
   "pygments_lexer": "ipython3",
   "version": "3.7.4"
  }
 },
 "nbformat": 4,
 "nbformat_minor": 2
}
